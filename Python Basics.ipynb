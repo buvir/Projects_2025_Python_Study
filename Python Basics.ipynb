{
 "cells": [
  {
   "cell_type": "code",
   "execution_count": null,
   "id": "5c0390ec",
   "metadata": {},
   "outputs": [],
   "source": [
    "# This is a single-line comment\n",
    "\"\"\"\n",
    "This is a multi-line comment.\n",
    "Welcome to the Python course.\n",
    "\"\"\""
   ]
  },
  {
   "cell_type": "code",
   "execution_count": null,
   "id": "e9a8fb74",
   "metadata": {},
   "outputs": [
    {
     "name": "stdout",
     "output_type": "stream",
     "text": [
      "lion\n",
      "spider\n"
     ]
    }
   ],
   "source": [
    "# case sensitive\n",
    "name='lion'\n",
    "Name='spider'\n",
    "\n",
    "print(name)\n",
    "print(Name)"
   ]
  },
  {
   "cell_type": "code",
   "execution_count": null,
   "id": "faf13bff",
   "metadata": {},
   "outputs": [],
   "source": [
    "# # Identation\n",
    "# Indentation in Python\n",
    "# Indentation is used to define the structure and hierarchy of code in Python. Unlike many other programming languages that use braces to delimit blocks of code, Python uses indentation to determine the grouping of statements. Consistent use of spaces, commonly four spaces or a tab, is required."
   ]
  },
  {
   "cell_type": "code",
   "execution_count": null,
   "metadata": {},
   "outputs": [],
   "source": [
    "# This is a single-line comment\n",
    "\"\"\"\n",
    "This is a multi-line comment.\n",
    "Welcome to the Python course.\n",
    "\"\"\""
   ]
  }
 ],
 "metadata": {
  "kernelspec": {
   "display_name": "venv",
   "language": "python",
   "name": "python3"
  },
  "language_info": {
   "codemirror_mode": {
    "name": "ipython",
    "version": 3
   },
   "file_extension": ".py",
   "mimetype": "text/x-python",
   "name": "python",
   "nbconvert_exporter": "python",
   "pygments_lexer": "ipython3",
   "version": "3.12.1"
  }
 },
 "nbformat": 4,
 "nbformat_minor": 5
}
